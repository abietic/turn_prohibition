{
 "metadata": {
  "language_info": {
   "codemirror_mode": {
    "name": "ipython",
    "version": 3
   },
   "file_extension": ".py",
   "mimetype": "text/x-python",
   "name": "python",
   "nbconvert_exporter": "python",
   "pygments_lexer": "ipython3",
   "version": "3.9.2"
  },
  "orig_nbformat": 2,
  "kernelspec": {
   "name": "python3",
   "display_name": "Python 3.9.2 64-bit ('net': conda)"
  },
  "interpreter": {
   "hash": "59a79b0ffc9c7aa6f9b9b8a566f2840c8c3ceeed565d9892401195eb8c55da5d"
  }
 },
 "nbformat": 4,
 "nbformat_minor": 2,
 "cells": [
  {
   "cell_type": "code",
   "execution_count": null,
   "metadata": {},
   "outputs": [],
   "source": [
    "import networkx as nx\n",
    "from copy import deepcopy"
   ]
  },
  {
   "cell_type": "code",
   "execution_count": null,
   "metadata": {},
   "outputs": [],
   "source": [
    "fh = open(\"test.edgelist\", \"rb\")\n",
    "G = nx.read_edgelist(fh)\n",
    "fh.close()"
   ]
  },
  {
   "cell_type": "code",
   "execution_count": null,
   "metadata": {},
   "outputs": [],
   "source": [
    "nx.draw(G)"
   ]
  },
  {
   "cell_type": "code",
   "execution_count": null,
   "metadata": {},
   "outputs": [],
   "source": [
    "sp = nx.shortest_path(G,weight=delay)"
   ]
  },
  {
   "cell_type": "code",
   "execution_count": null,
   "metadata": {
    "tags": [
     "outputPrepend"
    ]
   },
   "outputs": [],
   "source": [
    "import random\n",
    "node_cnt = 100\n",
    "flow_cnt = 0\n",
    "of = open(\"test.flowlist\", \"w\")\n",
    "# store remaining bandwith of the link\n",
    "band_rem = {}\n",
    "link_bandwidth_const = 10000.0\n",
    "max_try = 100000\n",
    "for _ in range(G.number_of_edges()*2*200):\n",
    "    # gen source\n",
    "    src = random.randint(0,node_cnt - 1)\n",
    "    # gen destination\n",
    "    dst = random.randint(0,node_cnt - 1)\n",
    "    # throw illegal flow\n",
    "    if dst == src:\n",
    "        continue\n",
    "    # gen period\n",
    "    period = random.uniform(0.0025,0.0095)\n",
    "    # gen packet size\n",
    "    size = random.uniform(0.025,0.095)\n",
    "    # cal bandwidth\n",
    "    bandwidth = size / period\n",
    "    # resolve a path\n",
    "    # only shortest path\n",
    "    paths = sp[str(src)][str(dst)]\n",
    "    path_cnt = (len(paths) -1)\n",
    "    # check if all the links on the path have enough bandwidth\n",
    "    can_alloc = True\n",
    "    which_link_cant = set()\n",
    "    path_res = []\n",
    "    for i in range(path_cnt):\n",
    "        p = 's_'+paths[i]+'->'+paths[i+1]\n",
    "        if p not in band_rem:\n",
    "            band_rem[p] = link_bandwidth_const\n",
    "        if band_rem[p] - bandwidth < 0.0:\n",
    "            can_alloc = False\n",
    "            which_link_cant.add(p)\n",
    "    if can_alloc:\n",
    "        # shortest path can fullfill the requirment\n",
    "        # print('use shortest path')\n",
    "        for i in range(path_cnt):\n",
    "            p = 's_'+paths[i]+'->'+paths[i+1]\n",
    "            band_rem[p] -= bandwidth\n",
    "            path_res.append(p)\n",
    "    else:\n",
    "        # need to find a new path\n",
    "        print('finding alternative path: '+str(src) + ' -> ' + str(dst))\n",
    "        optional_paths = nx.all_simple_paths(G, str(src), str(dst))\n",
    "        # print('total alternatives : ' + len(optional_paths))\n",
    "        found_one = False\n",
    "        try_cnt = 0\n",
    "        for opath in optional_paths:\n",
    "            can_use = True\n",
    "            print(str(try_cnt)+'th try')\n",
    "            # print(opath)\n",
    "            for i in range(len(opath) - 1):\n",
    "                 p = 's_'+opath[i]+'->'+opath[i+1]\n",
    "                 if p in which_link_cant:\n",
    "                     can_use = False\n",
    "                     break\n",
    "                 if p not in band_rem:\n",
    "                     band_rem[p] = link_bandwidth_const\n",
    "                 tmp = band_rem[p] - bandwidth\n",
    "                 if tmp < 0.0:\n",
    "                     print(p)\n",
    "                     print(band_rem[p])\n",
    "                     print(tmp)\n",
    "                     can_use = False\n",
    "                     break\n",
    "            if can_use:\n",
    "                found_one = True\n",
    "                for i in range(len(opath) - 1):\n",
    "                    p = 's_'+opath[i]+'->'+opath[i+1]\n",
    "                    band_rem[p] -= bandwidth\n",
    "                    path_res.append(p)\n",
    "                break\n",
    "            try_cnt += 1\n",
    "            if try_cnt > max_try:\n",
    "                # check if all used \n",
    "                print(len(band_rem))\n",
    "                print(bandwidth)\n",
    "                print(int(bandwidth))\n",
    "                for k,v in band_rem.items():\n",
    "                    # print(''+k+' : '+str(v))\n",
    "                    # print(int(v))\n",
    "                    # print(int(v) - int(bandwidth))\n",
    "                    print(v - bandwidth < 0.0)\n",
    "                    print(v < bandwidth)\n",
    "                found_one = False\n",
    "                break\n",
    "        if not found_one:\n",
    "            print('not schedulable!!!')\n",
    "            break\n",
    "\n",
    "    \n",
    "    of.write(str(len(path_res))+'\\n')\n",
    "    of.write(str(period)+'\\n')\n",
    "    of.write(str(size)+'\\n')\n",
    "    of.write(str(bandwidth)+'\\n')\n",
    "\n",
    "    if not can_alloc :\n",
    "        print(flow_cnt)  \n",
    "        print(len(path_res))\n",
    "        print(period) \n",
    "        print(size)\n",
    "        print(bandwidth) \n",
    "\n",
    "    for pr in path_res:\n",
    "        of.write(pr+'\\n')\n",
    "        if not can_alloc:\n",
    "            print(pr)\n",
    "    flow_cnt += 1\n",
    "of.write(str(flow_cnt))\n",
    "of.flush()\n",
    "of.close()"
   ]
  },
  {
   "cell_type": "code",
   "execution_count": null,
   "metadata": {},
   "outputs": [],
   "source": [
    "flow_cnt"
   ]
  },
  {
   "cell_type": "code",
   "execution_count": 75,
   "metadata": {},
   "outputs": [
    {
     "output_type": "stream",
     "name": "stdout",
     "text": [
      "not schedulabe\n"
     ]
    }
   ],
   "source": [
    "from flow_info import flow_info\n",
    "# to do load balance on links we need to use utilization rate\n",
    "# use those message to find a lowest cost path for load balance\n",
    "g_mut = deepcopy(G)\n",
    "link_bandwidth_const = 10000.0\n",
    "for es,ed in g_mut.edges:\n",
    "    g_mut[es][ed]['used'] = 0.0\n",
    "    g_mut[es][ed]['ut'] = 1.0\n",
    "    g_mut[es][ed]['bandwidth'] = link_bandwidth_const\n",
    "of = open(\"used.flowlist\", \"r\")\n",
    "flow_cnt = int(of.readline())\n",
    "flow_list = list()\n",
    "# read generated flows file for further gen path\n",
    "for i in range(flow_cnt):\n",
    "    pc = int(of.readline())\n",
    "    pr = float(of.readline())\n",
    "    sz = float(of.readline())\n",
    "    bw = float(of.readline())\n",
    "    sc = ''\n",
    "    dt = ''\n",
    "    for j in range(pc):\n",
    "        ps = of.readline()\n",
    "        if j == 0:\n",
    "           sc = ps[2:].split('->')[0]\n",
    "        if j == pc - 1:\n",
    "            dt = ps[2:].split('->')[1].replace('\\n','')\n",
    "    flow_list.append(flow_info(sc, dt, pr, sz, bw))\n",
    "of.close()\n",
    "\n",
    "# generate more for proving the balance is more schedulabe\n",
    "add_flow_cnt = 6000\n",
    "for i in range(add_flow_cnt):\n",
    "    # gen source\n",
    "    sc = random.randint(0,node_cnt - 1)\n",
    "    # gen destination\n",
    "    dt = random.randint(0,node_cnt - 1)\n",
    "    # throw illegal flow\n",
    "    if dt == sc:\n",
    "        continue\n",
    "    # gen period\n",
    "    pr = random.uniform(0.0025,0.0095)\n",
    "    # gen packet size\n",
    "    sz = random.uniform(0.025,0.095)\n",
    "    # cal bandwidth\n",
    "    bw = size / period\n",
    "    flow_list.append(flow_info(str(sc), str(dt), pr, sz, bw))\n",
    "\n",
    "scheduled_flow_cnt = 0\n",
    "bf = open(\"tt.flowlist\", \"w\")\n",
    "sampled_cnt = len(flow_list)\n",
    "# gen routing path for sampled flows\n",
    "can_schedule = True\n",
    "for i in range(sampled_cnt):\n",
    "    fl = flow_list[i]\n",
    "    # cal minimum utilization paths\n",
    "    rout = nx.shortest_path(g_mut, fl.src, fl.dst, weight='ut')\n",
    "    # check if the path is valid\n",
    "    can_alloc = True\n",
    "    ppc = len(rout)\n",
    "    for j in range(ppc-1):\n",
    "        sc,dt = rout[j],rout[j+1]\n",
    "        if (g_mut[sc][dt]['bandwidth'] - g_mut[sc][dt]['used'] - fl.bandwidth) < 0.0:\n",
    "            can_alloc = False\n",
    "            break\n",
    "    # if a balanced path is not feasible, then the flow is not schedulabe\n",
    "    if not can_alloc:\n",
    "        can_schedule = False\n",
    "        print('not schedulabe')\n",
    "        break\n",
    "    bf.write(str(ppc - 1) + '\\n')\n",
    "    bf.write(str(fl.period) + '\\n')\n",
    "    bf.write(str(fl.size) + '\\n')\n",
    "    bf.write(str(fl.bandwidth) + '\\n')\n",
    "    # if this routing path is feasible, then update the states of passed links\n",
    "    for j in range(ppc-1):\n",
    "        sc,dt = rout[j],rout[j+1]\n",
    "        g_mut[sc][dt]['used'] += fl.bandwidth\n",
    "        g_mut[sc][dt]['ut'] = 1.0 + g_mut[sc][dt]['used'] / g_mut[sc][dt]['bandwidth']\n",
    "        pss = 's_'+sc+'->'+dt\n",
    "        bf.write(pss+'\\n')\n",
    "    scheduled_flow_cnt += 1\n",
    "\n",
    "bf.write(str(scheduled_flow_cnt) + '\\n')\n",
    "bf.flush()\n",
    "bf.close()"
   ]
  },
  {
   "cell_type": "code",
   "execution_count": 64,
   "metadata": {},
   "outputs": [
    {
     "output_type": "execute_result",
     "data": {
      "text/plain": [
       "['8', '6']"
      ]
     },
     "metadata": {},
     "execution_count": 64
    }
   ],
   "source": []
  },
  {
   "cell_type": "code",
   "execution_count": null,
   "metadata": {},
   "outputs": [],
   "source": []
  }
 ]
}